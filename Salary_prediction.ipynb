{
 "cells": [
  {
   "cell_type": "code",
   "execution_count": null,
   "id": "5c3a5aec",
   "metadata": {
    "lines_to_next_cell": 0
   },
   "outputs": [],
   "source": []
  },
  {
   "cell_type": "code",
   "execution_count": null,
   "id": "33d88d55",
   "metadata": {},
   "outputs": [],
   "source": [
    "import numpy as np\n",
    "import pandas as pd\n",
    "import pickle\n",
    "from sklearn.model_selection import train_test_split\n",
    "from sklearn.ensemble import RandomForestClassifier\n",
    "from sklearn import preprocessing\n",
    "df = pd.read_csv('dataa.csv')\n",
    "df = df.loc[:, ~df.columns.str.contains('^Unnamed')]\n",
    "df.fillna(0,inplace=True)\n",
    "x=df.drop(['StudentId','salary'],axis=1)\n",
    "y = df['salary']\n",
    "le = preprocessing.LabelEncoder()\n",
    "x['Internship'] = le.fit_transform(x['Internship'])\n",
    "x['Hackathon'] = le.fit_transform(x['Hackathon'])\n",
    "x['PlacementStatus']=le.fit_transform(x['PlacementStatus'])\n",
    "x_train, x_test, y_train, y_test = train_test_split(x, y, test_size = 0.3, random_state = 100)\n",
    "from sklearn.naive_bayes import GaussianNB\n",
    "classify= RandomForestClassifier(n_estimators= 100, criterion=\"entropy\")\n",
    "classify.fit(x_train, y_train)\n",
    "ypred=classify.predict(x_test)\n",
    "from sklearn.metrics import accuracy_score\n",
    "pickle.dump(classify, open('model1.pkl','wb'))\n",
    "model1 = pickle.load(open('model1.pkl','rb'))\n",
    "print(classify.predict([[8,1,3,2,9,4.8,0,1,71,87,0,1]]))"
   ]
  }
 ],
 "metadata": {
  "jupytext": {
   "cell_metadata_filter": "-all",
   "main_language": "python",
   "notebook_metadata_filter": "-all"
  }
 },
 "nbformat": 4,
 "nbformat_minor": 5
}
